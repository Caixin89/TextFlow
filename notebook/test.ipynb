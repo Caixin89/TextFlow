{
 "cells": [
  {
   "cell_type": "code",
   "execution_count": null,
   "metadata": {
    "vscode": {
     "languageId": "plaintext"
    }
   },
   "outputs": [],
   "source": [
    "import torch"
   ]
  },
  {
   "cell_type": "code",
   "execution_count": null,
   "metadata": {
    "vscode": {
     "languageId": "plaintext"
    }
   },
   "outputs": [],
   "source": [
    "# Example of Mermaid code as input\n",
    "mermaid_code = \"\"\"flowchart TD\n",
    "    A([\"Start\"]) --> B[/\"Receive 'arr' and 'n'\"/]\n",
    "    B --> C[\"Initialize loop index 'i' to 0\"]\n",
    "    C --> D{\"Check if arr[i] == i\"}\n",
    "    D -->|\"Yes\"| E[/\"Return index 'i' as fixed point\"/]\n",
    "    D -->|\"No\"| G[\"Increment 'i'\"]\n",
    "    E --> F([\"End\"])\n",
    "    G --> H{\"i < n\"}\n",
    "    H -->|\"Yes\"| D\n",
    "    H -->|\"No\"| I[/\"Return -1 as no fixed point found\"/]\n",
    "    I --> F\"\"\"\n",
    "\n",
    "# Convert Mermaid to Flowchart code\n",
    "converter = MermaidToFlowchart(mermaid_code)\n",
    "python_code = converter.convert()\n",
    "\n",
    "# Output the generated Python code\n",
    "print(python_code)"
   ]
  },
  {
   "cell_type": "markdown",
   "metadata": {},
   "source": [
    "### Convert Mermaid to Flowchart class (excutable Python graph object)"
   ]
  },
  {
   "cell_type": "code",
   "execution_count": null,
   "metadata": {
    "vscode": {
     "languageId": "plaintext"
    }
   },
   "outputs": [],
   "source": [
    "from flowchart import Mermaid2Flowchart\n",
    "\n",
    "mermaid_code = \"\"\"flowchart TD\n",
    "    A([\"Start\"]) --> B[/\"Receive 'arr' and 'n'\"/]\n",
    "    B --> C[\"Initialize loop index 'i' to 0\"]\n",
    "    C --> D{\"Check if arr[i] == i\"}\n",
    "    D -->|\"Yes\"| E[/\"Return index 'i' as fixed point\"/]\n",
    "    D -->|\"No\"| G[\"Increment 'i'\"]\n",
    "    E --> F([\"End\"])\n",
    "    G --> H{\"i < n\"}\n",
    "    H -->|\"Yes\"| D\n",
    "    H -->|\"No\"| I[/\"Return -1 as no fixed point found\"/]\n",
    "    I --> F\"\"\"\n",
    "\n",
    "# Convert Mermaid to Flowchart class (excutable Python graph object)\n",
    "converter = Mermaid2Flowchart(mermaid_code)\n",
    "python_code = converter.convert()\n",
    "\n",
    "# Output the generated Python code\n",
    "print(python_code)"
   ]
  },
  {
   "cell_type": "markdown",
   "metadata": {},
   "source": [
    "### Test executable functions of Flowchart class"
   ]
  },
  {
   "cell_type": "code",
   "execution_count": null,
   "metadata": {
    "vscode": {
     "languageId": "plaintext"
    }
   },
   "outputs": [],
   "source": [
    "from flowchart import Flowchart\n",
    "\n",
    "flowchart = Flowchart()\n",
    "\n",
    "flowchart.add_node(\"A\", \"Start\", \"ellipse\")\n",
    "flowchart.add_node(\"B\", \"Receive 'arr' and 'n'\", \"parallelogram\")\n",
    "flowchart.add_node(\"C\", \"Initialize loop index 'i' to 0\", \"box\")\n",
    "flowchart.add_node(\"D\", \"Check if arr[i] == i\", \"diamond\")\n",
    "flowchart.add_node(\"E\", \"Return index 'i' as fixed point\", \"parallelogram\")\n",
    "flowchart.add_node(\"F\", \"End\", \"ellipse\")\n",
    "flowchart.add_node(\"G\", \"Increment 'i'\", \"box\")\n",
    "flowchart.add_node(\"H\", \"i < n\", \"diamond\")\n",
    "flowchart.add_node(\"I\", \"Return -1 as no fixed point found\", \"parallelogram\")\n",
    "\n",
    "flowchart.add_edge(\"A\", \"B\")\n",
    "flowchart.add_edge(\"B\", \"C\")\n",
    "flowchart.add_edge(\"C\", \"D\")\n",
    "flowchart.add_edge(\"D\", \"E\", \"Yes\")\n",
    "flowchart.add_edge(\"D\", \"G\", \"No\")\n",
    "flowchart.add_edge(\"E\", \"F\")\n",
    "flowchart.add_edge(\"G\", \"H\")\n",
    "flowchart.add_edge(\"H\", \"D\", \"Yes\")\n",
    "flowchart.add_edge(\"H\", \"I\", \"No\")\n",
    "flowchart.add_edge(\"I\", \"F\")\n",
    "\n",
    "\n",
    "def get_number_of_nodes():\n",
    "    return flowchart.get_number_of_nodes()\n",
    "\n",
    "\n",
    "def get_number_of_edges():\n",
    "    return flowchart.get_number_of_edges()\n",
    "\n",
    "\n",
    "def get_direct_successors(node_name):\n",
    "    return flowchart.get_direct_successors(node_name)\n",
    "\n",
    "\n",
    "def get_direct_predecessors(node_name):\n",
    "    return flowchart.get_direct_predecessors(node_name)\n",
    "\n",
    "\n",
    "def get_shortest_path_length(node1, node2):\n",
    "    return flowchart.get_shortest_path_length(node1, node2)\n",
    "\n",
    "\n",
    "def get_max_indegree():\n",
    "    return flowchart.get_max_indegree()\n",
    "\n",
    "\n",
    "def get_max_outdegree():\n",
    "    return flowchart.get_max_outdegree()\n",
    "\n",
    "\n",
    "print(f\"Total number of nodes: {get_number_of_nodes()}\")\n",
    "print(f\"Total number of edges: {get_number_of_edges()}\")\n",
    "print(f\"Direct successors of Increment 'i':\", get_direct_successors(\"Increment 'i'\"))\n",
    "print(\n",
    "    f\"Direct predecessors of Increment 'i':\", get_direct_predecessors(\"Increment 'i'\")\n",
    ")\n",
    "print(\n",
    "    f\"Shortest path length between two nodes:\",\n",
    "    get_shortest_path_length(\"Increment 'i'\", \"Check if arr[i] == i\"),\n",
    ")\n",
    "print(f\"Maximum indegree of the flowchart:\", get_max_indegree())\n",
    "print(f\"Maximum outdegree of the flowchart:\", get_max_outdegree())"
   ]
  },
  {
   "cell_type": "code",
   "execution_count": null,
   "metadata": {
    "vscode": {
     "languageId": "plaintext"
    }
   },
   "outputs": [],
   "source": []
  }
 ],
 "metadata": {
  "language_info": {
   "name": "python"
  }
 },
 "nbformat": 4,
 "nbformat_minor": 2
}
